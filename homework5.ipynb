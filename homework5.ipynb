{
 "cells": [
  {
   "cell_type": "code",
   "execution_count": 8,
   "metadata": {},
   "outputs": [
    {
     "name": "stdout",
     "output_type": "stream",
     "text": [
      " please input the number3\n",
      " please input the number5\n",
      "q = 1 ,w = 2 ,e = 3 ,r = 4\n",
      " please input the number 4\n",
      "0.6\n"
     ]
    }
   ],
   "source": [
    "def add (a, b):\n",
    "    return a+b\n",
    "def minus(a,b):\n",
    "    return a-b\n",
    "def mutiply(a,b):\n",
    "    return a*b\n",
    "def divide (a,b):\n",
    "    return a/b\n",
    "\n",
    "a = int(input(\" please input the number\"))\n",
    "b = int(input(\" please input the number\"))\n",
    "print ('q = 1 ,w = 2 ,e = 3 ,r = 4')\n",
    "c = int(input(\" please input the number \"))\n",
    "\n",
    "if c == 1:\n",
    "    print (add(a,b))\n",
    "if c == 2:\n",
    "    print (minus(a,b))\n",
    "if c == 3:\n",
    "    print (mutiply(a,b))\n",
    "if c == 4:\n",
    "    print (divide(a,b))"
   ]
  },
  {
   "cell_type": "code",
   "execution_count": 9,
   "metadata": {},
   "outputs": [
    {
     "name": "stdout",
     "output_type": "stream",
     "text": [
      " please input the number5\n",
      " please input the number80\n",
      "q = 1 ,w = 2 ,e = 3 ,r = 4\n",
      " please input the number 1\n",
      "85\n"
     ]
    }
   ],
   "source": [
    "def add (a, b):\n",
    "    return a+b\n",
    "def minus(a,b):\n",
    "    return a-b\n",
    "def mutiply(a,b):\n",
    "    return a*b\n",
    "def divide (a,b):\n",
    "    return a/b\n",
    "\n",
    "a = int(input(\" please input the number\"))\n",
    "b = int(input(\" please input the number\"))\n",
    "print ('q = 1 ,w = 2 ,e = 3 ,r = 4')\n",
    "c = int(input(\" please input the number \"))\n",
    "\n",
    "if c == 1:\n",
    "    print (add(a,b))\n",
    "if c == 2:\n",
    "    print (minus(a,b))\n",
    "if c == 3:\n",
    "    print (mutiply(a,b))\n",
    "if c == 4:\n",
    "    print (divide(a,b))"
   ]
  },
  {
   "cell_type": "code",
   "execution_count": 10,
   "metadata": {},
   "outputs": [
    {
     "name": "stdout",
     "output_type": "stream",
     "text": [
      " please input the number78\n",
      " please input the number63\n",
      "q = 1 ,w = 2 ,e = 3 ,r = 4\n",
      " please input the number 2\n",
      "15\n"
     ]
    }
   ],
   "source": [
    "def add (a, b):\n",
    "    return a+b\n",
    "def minus(a,b):\n",
    "    return a-b\n",
    "def mutiply(a,b):\n",
    "    return a*b\n",
    "def divide (a,b):\n",
    "    return a/b\n",
    "\n",
    "a = int(input(\" please input the number\"))\n",
    "b = int(input(\" please input the number\"))\n",
    "print ('q = 1 ,w = 2 ,e = 3 ,r = 4')\n",
    "c = int(input(\" please input the number \"))\n",
    "\n",
    "if c == 1:\n",
    "    print (add(a,b))\n",
    "if c == 2:\n",
    "    print (minus(a,b))\n",
    "if c == 3:\n",
    "    print (mutiply(a,b))\n",
    "if c == 4:\n",
    "    print (divide(a,b))"
   ]
  },
  {
   "cell_type": "code",
   "execution_count": 11,
   "metadata": {},
   "outputs": [
    {
     "name": "stdout",
     "output_type": "stream",
     "text": [
      " please input the number988\n",
      " please input the number654\n",
      "q = 1 ,w = 2 ,e = 3 ,r = 4\n",
      " please input the number 3\n",
      "646152\n"
     ]
    }
   ],
   "source": [
    "def add (a, b):\n",
    "    return a+b\n",
    "def minus(a,b):\n",
    "    return a-b\n",
    "def mutiply(a,b):\n",
    "    return a*b\n",
    "def divide (a,b):\n",
    "    return a/b\n",
    "\n",
    "a = int(input(\" please input the number\"))\n",
    "b = int(input(\" please input the number\"))\n",
    "print ('q = 1 ,w = 2 ,e = 3 ,r = 4')\n",
    "c = int(input(\" please input the number \"))\n",
    "\n",
    "if c == 1:\n",
    "    print (add(a,b))\n",
    "if c == 2:\n",
    "    print (minus(a,b))\n",
    "if c == 3:\n",
    "    print (mutiply(a,b))\n",
    "if c == 4:\n",
    "    print (divide(a,b))"
   ]
  },
  {
   "cell_type": "code",
   "execution_count": null,
   "metadata": {},
   "outputs": [],
   "source": []
  }
 ],
 "metadata": {
  "kernelspec": {
   "display_name": "Python 3",
   "language": "python",
   "name": "python3"
  },
  "language_info": {
   "codemirror_mode": {
    "name": "ipython",
    "version": 3
   },
   "file_extension": ".py",
   "mimetype": "text/x-python",
   "name": "python",
   "nbconvert_exporter": "python",
   "pygments_lexer": "ipython3",
   "version": "3.6.7"
  }
 },
 "nbformat": 4,
 "nbformat_minor": 2
}
